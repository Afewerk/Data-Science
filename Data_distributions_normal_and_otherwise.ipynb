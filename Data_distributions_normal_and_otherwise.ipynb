{
 "cells": [
  {
   "cell_type": "markdown",
   "metadata": {},
   "source": [
    "# Basics Probability "
   ]
  },
  {
   "cell_type": "markdown",
   "metadata": {},
   "source": [
    "This code demonstrates probability basics by using multiple examples, techniqes and real world senarios. "
   ]
  },
  {
   "cell_type": "code",
   "execution_count": 106,
   "metadata": {},
   "outputs": [],
   "source": [
    "import pandas as pd\n",
    "import numpy as np\n",
    "import matplotlib.pyplot as plt\n",
    "import statistics as sts\n",
    "%matplotlib inline"
   ]
  },
  {
   "cell_type": "markdown",
   "metadata": {},
   "source": [
    "# Drill Set #1"
   ]
  },
  {
   "cell_type": "raw",
   "metadata": {},
   "source": [
    "Assignments\n",
    "To complete the following drills, you'll need to use your Python skills to create some datasets, then use your new statistical knowledge to summarize them. Choose 6 distributions from the list of random distributions available in NumPy, called “Distributions” For Each distribution:"
   ]
  },
  {
   "cell_type": "markdown",
   "metadata": {},
   "source": [
    "Q1. Generate a random variable with 100 datapoints using the code distributionvar = np.random.distributionname([arguments], 100), replacing distributionvar with an appropriate variable name and distributionname with the name of the distribution you’ve chosen, and filling in the empty space in the parentheses with your chosen values for the appropriate parameters. If you feel uncertain about how to do this, go back to the “Other Distributions” assignment for examples of code to use as a starting point."
   ]
  },
  {
   "cell_type": "code",
   "execution_count": 85,
   "metadata": {},
   "outputs": [],
   "source": [
    "rand_data = np.random.poisson([5],100)\n",
    "rand_data.sort()"
   ]
  },
  {
   "cell_type": "markdown",
   "metadata": {},
   "source": [
    "Q2. Graph the variable using a histogram."
   ]
  },
  {
   "cell_type": "code",
   "execution_count": 99,
   "metadata": {},
   "outputs": [
    {
     "data": {
      "text/plain": [
       "Text(0, 0.5, 'Range of random sample')"
      ]
     },
     "execution_count": 99,
     "metadata": {},
     "output_type": "execute_result"
    },
    {
     "data": {
      "image/png": "[encoded data removed]",
      "text/plain": [
       "<Figure size 432x288 with 1 Axes>"
      ]
     },
     "metadata": {
      "needs_background": "light"
     },
     "output_type": "display_data"
    }
   ],
   "source": [
    "#plt.subplot(2,3,1)\n",
    "plt.hist(rand_data, color='c')\n",
    "plt.title('\\nFigure 1. Sample of 100 people with low 1 and std 5\\n');\n",
    "plt.xlabel('Random population sample')\n",
    "plt.ylabel('Range of random sample')"
   ]
  },
  {
   "cell_type": "markdown",
   "metadata": {},
   "source": [
    "Q3. Compute the mean and standard deviation and plot them as vertical lines on the histogram."
   ]
  },
  {
   "cell_type": "code",
   "execution_count": 87,
   "metadata": {},
   "outputs": [
    {
     "name": "stdout",
     "output_type": "stream",
     "text": [
      "Mean : 0    4.852105\n",
      "dtype: float64 \tStandard Deviasion : 2.1829109006095506\n"
     ]
    }
   ],
   "source": [
    "Mean = np.mean(rand_data)\n",
    "standard_dev = np.std(rand_data)\n",
    "print(\"Mean :\",mean, '\\tStandard Deviasion :', standard_dev)"
   ]
  },
  {
   "cell_type": "code",
   "execution_count": 100,
   "metadata": {},
   "outputs": [
    {
     "data": {
      "image/png": "[encoded data removed]",
      "text/plain": [
       "<Figure size 432x288 with 1 Axes>"
      ]
     },
     "metadata": {
      "needs_background": "light"
     },
     "output_type": "display_data"
    }
   ],
   "source": [
    "## Plot a histogram for rand1.\n",
    "plt.hist(rand_data, bins=20, color='green');\n",
    "\n",
    "# Add a vertical line at the mean.\n",
    "plt.axvline(Mean, color='b', linestyle='solid', linewidth=2);\n",
    "\n",
    "# Add a vertical line at one standard deviation above the mean.\n",
    "plt.axvline(standard_dev, color='b', linestyle='dashed', linewidth=2);\n",
    "\n",
    "# Add a vertical line at one standard deviation below the mean.\n",
    "#plt.axvline(Mean - standard_dev, color='b', linestyle='dashed', linewidth=2) ;\n",
    "\n",
    "plt.title('\\n Figure 2. Random data poisson distribution with mean(left) and standard deviasion(right) vertical lines showing\\n');"
   ]
  },
  {
   "cell_type": "markdown",
   "metadata": {},
   "source": [
    "Q4. Evaluate whether the descriptive statistics provided useful information about the variable. Can you identify any common characteristics of the distributions that could be usefully described using the mean and/or standard deviation, versus the ones that could not?"
   ]
  },
  {
   "cell_type": "markdown",
   "metadata": {},
   "source": [
    "Ans.\n",
    "We can see that the graph is skewed to the left. Which means, the mean is greater than the standard deviasion. The graph is distributed more on the left side of the mean than being proportional or on the right."
   ]
  },
  {
   "cell_type": "markdown",
   "metadata": {},
   "source": [
    "# Additionally"
   ]
  },
  {
   "cell_type": "markdown",
   "metadata": {},
   "source": [
    "Q1. Generate two normally-distributed variables, one with a mean of 5 and standard deviation of 0.5, and the other with a mean of 10 and standard deviation of 1."
   ]
  },
  {
   "cell_type": "code",
   "execution_count": 108,
   "metadata": {},
   "outputs": [
    {
     "data": {
      "text/plain": [
       "array([5.61792791, 4.64422068, 5.55932661, 5.35930196, 5.21905842,\n",
       "       5.45368042, 5.02182852, 4.63488699, 5.64799622, 4.91512707,\n",
       "       5.40854701, 4.86241549, 4.93233628, 4.616922  , 5.46161102,\n",
       "       5.53287201, 4.32787466, 4.72669475, 4.66776179, 4.03836017,\n",
       "       4.31774601, 5.31121899, 4.94372968, 4.49743107, 5.04732562,\n",
       "       4.92031284, 5.08824124, 5.23376986, 6.0532698 , 4.59550548,\n",
       "       4.70528468, 4.68463348, 4.89165623, 4.92628959, 5.03273046,\n",
       "       4.51573347, 5.56033357, 4.97902451, 4.95190775, 4.8008704 ,\n",
       "       4.88398298, 6.01308011, 5.96923675, 4.66637532, 5.5215311 ,\n",
       "       4.19662139, 4.4659829 , 4.64253407, 4.97651127, 5.20841025,\n",
       "       5.12496811, 5.03611797, 4.50299584, 5.12008499, 4.34817794,\n",
       "       4.77217419, 5.61665826, 4.85490341, 4.75378815, 5.7645274 ,\n",
       "       4.92360053, 5.82724453, 4.49828592, 4.95923674, 4.49330659,\n",
       "       4.61924635, 4.77769597, 4.99222546, 3.79303779, 4.81403498,\n",
       "       4.8557765 , 5.40948245, 5.11227807, 5.77009542, 5.09167481,\n",
       "       4.22054953, 4.74391484, 5.40728463, 4.73158182, 4.57308928,\n",
       "       5.76322153, 4.9307136 , 4.16957756, 4.86362923, 5.00385943,\n",
       "       4.98652627, 5.84074067, 5.15173047, 5.79647461, 4.74666665,\n",
       "       5.05751845, 5.5142845 , 4.10330679, 4.43238294, 4.24970399,\n",
       "       4.93628004, 4.29056315, 4.6676246 , 4.87373097, 5.08860189])"
      ]
     },
     "execution_count": 108,
     "metadata": {},
     "output_type": "execute_result"
    }
   ],
   "source": [
    "rand1 = np.random.normal(5, 0.5, 100)\n",
    "rand2 = np.random.normal(10, 1, 100)\n",
    "rand1"
   ]
  },
  {
   "cell_type": "markdown",
   "metadata": {},
   "source": [
    "Q2. Add them together to create a third variable."
   ]
  },
  {
   "cell_type": "code",
   "execution_count": 109,
   "metadata": {},
   "outputs": [
    {
     "data": {
      "text/plain": [
       "array([16.57974953, 14.42530329, 14.91688718, 13.64480689, 14.81522132,\n",
       "       15.81169665, 15.03154532, 15.73401486, 16.43888958, 15.33335992,\n",
       "       16.17782217, 15.46001146, 14.39416992, 15.90696356, 13.97332394,\n",
       "       15.02516615, 15.47083691, 14.00364386, 14.95602011, 11.4633983 ,\n",
       "       15.51101091, 15.72601855, 15.32098242, 12.81128285, 13.49074473,\n",
       "       15.1345735 , 13.77080894, 16.30465394, 17.82631227, 13.36894109,\n",
       "       16.43503671, 13.65171598, 14.80470865, 14.59797977, 13.98098452,\n",
       "       12.47531286, 16.13500343, 16.97487739, 13.97581805, 15.37199231,\n",
       "       12.93520082, 16.7974792 , 18.39342751, 16.98971046, 16.4608675 ,\n",
       "       12.43011461, 14.18309866, 14.71571242, 14.10282845, 12.9312625 ,\n",
       "       16.70059898, 15.02987298, 14.52424948, 15.45602994, 14.72783077,\n",
       "       14.07071618, 15.92386795, 13.73849717, 15.74044598, 15.70983897,\n",
       "       14.38513199, 14.56619572, 14.84272224, 14.19977843, 13.33957522,\n",
       "       14.71655393, 15.81027759, 14.61784625, 12.65870746, 15.2101834 ,\n",
       "       13.81939391, 14.92165865, 15.29348398, 15.8335598 , 15.1857332 ,\n",
       "       14.3928821 , 15.22046318, 15.72637131, 13.57689587, 14.409486  ,\n",
       "       16.26391444, 15.00004014, 14.53525348, 15.6889453 , 14.16032351,\n",
       "       14.85012055, 17.33517363, 16.24267045, 15.99351004, 15.34794266,\n",
       "       14.27202263, 14.93087416, 14.69706444, 15.29022667, 13.52236831,\n",
       "       15.76398337, 15.02439176, 13.42195626, 15.66877859, 16.13490488])"
      ]
     },
     "execution_count": 109,
     "metadata": {},
     "output_type": "execute_result"
    }
   ],
   "source": [
    "norm3 = rand1 + rand2\n",
    "norm3"
   ]
  },
  {
   "cell_type": "markdown",
   "metadata": {},
   "source": [
    "Q3. Graph the third variable using a histogram."
   ]
  },
  {
   "cell_type": "code",
   "execution_count": 118,
   "metadata": {},
   "outputs": [
    {
     "data": {
      "image/png": "[encoded data removed]",
      "text/plain": [
       "<Figure size 432x288 with 1 Axes>"
      ]
     },
     "metadata": {
      "needs_background": "light"
     },
     "output_type": "display_data"
    }
   ],
   "source": [
    "plt.hist(norm3, color='purple', linestyle='solid', linewidth=2);\n",
    "plt.title('\\n Fig3. The graph of two normally distributed random samples from Mean-Std (5,10),(0.5,1) \\n');"
   ]
  },
  {
   "cell_type": "markdown",
   "metadata": {},
   "source": [
    "Q4. Compute the mean and standard deviation and plot them as vertical lines on the histogram."
   ]
  },
  {
   "cell_type": "code",
   "execution_count": 122,
   "metadata": {},
   "outputs": [
    {
     "data": {
      "text/plain": [
       "(14.95664605812024, 1.2050930594806741)"
      ]
     },
     "execution_count": 122,
     "metadata": {},
     "output_type": "execute_result"
    }
   ],
   "source": [
    "Mean1 = np.mean(norm3)\n",
    "std_norm3 = np.std(norm3)\n",
    "Mean1, std_norm3"
   ]
  },
  {
   "cell_type": "code",
   "execution_count": 133,
   "metadata": {},
   "outputs": [
    {
     "data": {
      "image/png": "[encoded data removed]",
      "text/plain": [
       "<Figure size 432x288 with 1 Axes>"
      ]
     },
     "metadata": {
      "needs_background": "light"
     },
     "output_type": "display_data"
    }
   ],
   "source": [
    "plt.hist(norm3, bins=20, color='g');\n",
    "\n",
    "# Add a vertical line at the mean.\n",
    "plt.axvline(Mean1, color='b', linestyle='solid', linewidth=3);\n",
    "\n",
    "# Add a vertical line at one standard deviation above the mean.\n",
    "plt.axvline(std_norm3, color='b', linestyle='dashed', linewidth=3);\n",
    "\n",
    "plt.title('\\n Figure 4. Random normal distribution with mean(left) and standard deviasion(right) vertical lines showing\\n');\n"
   ]
  },
  {
   "cell_type": "markdown",
   "metadata": {},
   "source": [
    "Q5. Evaluate the descriptive statistics against the data."
   ]
  },
  {
   "cell_type": "markdown",
   "metadata": {},
   "source": [
    "Analysis. This graph shows very big differences between the mean and standard deviasion. The data is populated at above 10 and below 20 scale on the x axis. However, because the we're adding the standard deviasion here, the entire graph looks shifted to the right."
   ]
  },
  {
   "cell_type": "code",
   "execution_count": null,
   "metadata": {},
   "outputs": [],
   "source": []
  }
 ],
 "metadata": {
  "kernelspec": {
   "display_name": "Python 3",
   "language": "python",
   "name": "python3"
  },
  "language_info": {
   "codemirror_mode": {
    "name": "ipython",
    "version": 3
   },
   "file_extension": ".py",
   "mimetype": "text/x-python",
   "name": "python",
   "nbconvert_exporter": "python",
   "pygments_lexer": "ipython3",
   "version": "3.6.7"
  }
 },
 "nbformat": 4,
 "nbformat_minor": 2
}
