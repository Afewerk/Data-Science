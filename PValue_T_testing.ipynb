{
 "cells": [
  {
   "cell_type": "markdown",
   "metadata": {},
   "source": [
    "Assignments\n",
    "To help you find your bearings with regard to t-tests, calculate the t-values for the following numbers:\n",
    "A **t-test** is a statistical test that calculates the size of the difference between two means given their variance and sample size.  The formula is:\n",
    "\n",
    "$$t = \\frac{\\bar{y_1}-\\bar{y_2}}{\\sqrt{s^2_1/N_1+s^2_2/N_2}}$$\n",
    "\n",
    "$\\bar{y_1}$ and $\\bar{y_2}$ represent the sample means of groups 1 and 2.\n",
    "\n",
    "$s_1$ and $s_2$ represent the sample standard deviations of groups 1 and 2.\n",
    "\n",
    "$N_1$ and $N_2$ represent the sample sizes for groups 1 and 2.\n"
   ]
  },
  {
   "cell_type": "code",
   "execution_count": 58,
   "metadata": {},
   "outputs": [],
   "source": [
    "import math\n",
    "y1, y2, s1, s2, N1, N2 = 5, 8, 1, 3, 200, 500"
   ]
  },
  {
   "cell_type": "code",
   "execution_count": 59,
   "metadata": {},
   "outputs": [
    {
     "name": "stdout",
     "output_type": "stream",
     "text": [
      "The t-Value for the group 1 and 2  of question #1 is -19.78 \n",
      "\n"
     ]
    }
   ],
   "source": [
    "t = (𝑦1 - 𝑦2) /math.sqrt((s1**2/N1) + (s2**2/N2))\n",
    "print( \"The t-Value for the group 1 and 2  of question #1 is {}\".format(round(t, 2)), '\\n')"
   ]
  },
  {
   "cell_type": "code",
   "execution_count": 63,
   "metadata": {},
   "outputs": [
    {
     "name": "stdout",
     "output_type": "stream",
     "text": [
      "The t-Value for the group 1 and 2  of question #1 is 6.66 \n",
      "\n"
     ]
    }
   ],
   "source": [
    "y3, y4, s3, s4, N3, N4 = 1090, 999, 400, 30, 900, 100\n",
    "\n",
    "t2 = (𝑦3 - 𝑦4) /math.sqrt((s3**2/N3) + (s4**2/N4))\n",
    "print( \"The t-Value for the group 1 and 2  of question #1 is {}\".format(round(t2, 2)), '\\n')"
   ]
  },
  {
   "cell_type": "code",
   "execution_count": 62,
   "metadata": {},
   "outputs": [
    {
     "name": "stdout",
     "output_type": "stream",
     "text": [
      "The t-Value for the group 1 and 2  of question #1 is 3.71 \n",
      "\n"
     ]
    }
   ],
   "source": [
    "y5, y6, s5, s6, N5, N6 = 45, 40, 45, 40, 2000, 2000\n",
    "\n",
    "\n",
    "t3 = (𝑦5 - 𝑦6) /math.sqrt((s5**2/N5) + (s6**2/N6))\n",
    "print( \"The t-Value for the group 1 and 2  of question #1 is {}\".format(round(t3, 2)), '\\n')"
   ]
  },
  {
   "cell_type": "markdown",
   "metadata": {},
   "source": [
    "It appears as the sample sizes increase, the t-values go donw significantly. It also icreases with bigger standard deviasions as well. "
   ]
  }
 ],
 "metadata": {
  "kernelspec": {
   "display_name": "Python 3",
   "language": "python",
   "name": "python3"
  },
  "language_info": {
   "codemirror_mode": {
    "name": "ipython",
    "version": 3
   },
   "file_extension": ".py",
   "mimetype": "text/x-python",
   "name": "python",
   "nbconvert_exporter": "python",
   "pygments_lexer": "ipython3",
   "version": "3.6.7"
  }
 },
 "nbformat": 4,
 "nbformat_minor": 2
}
