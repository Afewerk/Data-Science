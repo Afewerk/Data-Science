{
 "cells": [
  {
   "cell_type": "markdown",
   "metadata": {},
   "source": [
    "# Data Science - Minneapolis & St. Paul Public Safety report Analysis"
   ]
  },
  {
   "cell_type": "markdown",
   "metadata": {},
   "source": [
    "# Capstone Project"
   ]
  },
  {
   "cell_type": "markdown",
   "metadata": {},
   "source": [
    "### Afewerk Nune \n",
    "### May 6th, 2019"
   ]
  },
  {
   "cell_type": "markdown",
   "metadata": {},
   "source": [
    "## I. Definition\n",
    "### Project Overivew"
   ]
  },
  {
   "cell_type": "markdown",
   "metadata": {},
   "source": [
    "This capstone project is intended to explore the Minneapolis & St. Paul Public Safety reports from Oct 31, 2016 to Apr 29, 2019. There are 105000 data sets with 20 columns full of raw data. In this report we'll be using most of the colums to gain insite in to how public safety response, handling of each case, population demographics, and police use of power among certain groups or locations. \n",
    "\n",
    "This data only focuses on minneaplicemn.gov reported data and not including how the data was collected or maintained. Its also possible that some agencies report only if there are injuries, potential injuries, or verbal complaints (of involved suspects or citizens) as a result of a confrontation."
   ]
  },
  {
   "cell_type": "markdown",
   "metadata": {},
   "source": [
    "### Problem Statement"
   ]
  },
  {
   "cell_type": "markdown",
   "metadata": {},
   "source": [
    "Problem to solve: Describe how each pricinct handles calles for given areas. Also test the data for bias in gender, race, economid and demographics. Give indeapth analysis of outliers in these groups and show predictions for future reports."
   ]
  },
  {
   "cell_type": "markdown",
   "metadata": {},
   "source": [
    "### Metrics"
   ]
  },
  {
   "cell_type": "code",
   "execution_count": null,
   "metadata": {},
   "outputs": [],
   "source": []
  },
  {
   "cell_type": "markdown",
   "metadata": {},
   "source": [
    "## II. Analysis"
   ]
  },
  {
   "cell_type": "markdown",
   "metadata": {},
   "source": [
    "### Data Exploration"
   ]
  },
  {
   "cell_type": "markdown",
   "metadata": {},
   "source": [
    "### Libraries to be used"
   ]
  },
  {
   "cell_type": "code",
   "execution_count": 26,
   "metadata": {},
   "outputs": [],
   "source": [
    "import pandas as pd\n",
    "import numpy as np\n",
    "import matplotlib.pyplot as plt\n",
    "%matplotlib inline"
   ]
  },
  {
   "cell_type": "code",
   "execution_count": 29,
   "metadata": {},
   "outputs": [],
   "source": [
    "# here is the data we're going to use for this project also downloaded from www.minneapolismn.gov/opendata\n",
    "df = pd.DataFrame(pd.read_excel('data\\Police_stop_data.xlsx'))"
   ]
  },
  {
   "cell_type": "code",
   "execution_count": 87,
   "metadata": {
    "scrolled": true
   },
   "outputs": [
    {
     "data": {
      "text/html": [
       "<div>\n",
       "<style scoped>\n",
       "    .dataframe tbody tr th:only-of-type {\n",
       "        vertical-align: middle;\n",
       "    }\n",
       "\n",
       "    .dataframe tbody tr th {\n",
       "        vertical-align: top;\n",
       "    }\n",
       "\n",
       "    .dataframe thead th {\n",
       "        text-align: right;\n",
       "    }\n",
       "</style>\n",
       "<table border=\"1\" class=\"dataframe\">\n",
       "  <thead>\n",
       "    <tr style=\"text-align: right;\">\n",
       "      <th></th>\n",
       "      <th>OBJECTID</th>\n",
       "      <th>masterIncidentNumber</th>\n",
       "      <th>responseDate</th>\n",
       "      <th>Non-Usable</th>\n",
       "      <th>responseTime</th>\n",
       "      <th>responseCode</th>\n",
       "      <th>citationIssued</th>\n",
       "      <th>personSearch</th>\n",
       "      <th>vehicleSearch</th>\n",
       "      <th>preRace</th>\n",
       "      <th>race</th>\n",
       "      <th>gender</th>\n",
       "      <th>lat</th>\n",
       "      <th>long</th>\n",
       "      <th>x</th>\n",
       "      <th>y</th>\n",
       "      <th>policePrecinct</th>\n",
       "      <th>neighborhood</th>\n",
       "      <th>lastUpdateDate</th>\n",
       "    </tr>\n",
       "  </thead>\n",
       "  <tbody>\n",
       "    <tr>\n",
       "      <th>110989</th>\n",
       "      <td>118990</td>\n",
       "      <td>19-109767</td>\n",
       "      <td>2019-04-19</td>\n",
       "      <td>T</td>\n",
       "      <td>12:47:45</td>\n",
       "      <td>.000Z</td>\n",
       "      <td>NO</td>\n",
       "      <td>YES</td>\n",
       "      <td>YES</td>\n",
       "      <td>Black</td>\n",
       "      <td>Black</td>\n",
       "      <td>Male</td>\n",
       "      <td>44.98444</td>\n",
       "      <td>-93.286492</td>\n",
       "      <td>-1.038460e+07</td>\n",
       "      <td>5.619072e+06</td>\n",
       "      <td>1.0</td>\n",
       "      <td>North Loop</td>\n",
       "      <td>2019-04-20T08:20:42.000Z</td>\n",
       "    </tr>\n",
       "    <tr>\n",
       "      <th>51556</th>\n",
       "      <td>58557</td>\n",
       "      <td>17-469182</td>\n",
       "      <td>2017-12-11</td>\n",
       "      <td>T</td>\n",
       "      <td>16:19:53</td>\n",
       "      <td>.000Z</td>\n",
       "      <td>NO</td>\n",
       "      <td>NO</td>\n",
       "      <td>NO</td>\n",
       "      <td>Unknown</td>\n",
       "      <td>Black</td>\n",
       "      <td>Female</td>\n",
       "      <td>45.01315</td>\n",
       "      <td>-93.296850</td>\n",
       "      <td>-1.038576e+07</td>\n",
       "      <td>5.623593e+06</td>\n",
       "      <td>4.0</td>\n",
       "      <td>Jordan</td>\n",
       "      <td>2017-12-12T08:22:13.000Z</td>\n",
       "    </tr>\n",
       "    <tr>\n",
       "      <th>74781</th>\n",
       "      <td>83782</td>\n",
       "      <td>18-200579</td>\n",
       "      <td>2018-06-17</td>\n",
       "      <td>T</td>\n",
       "      <td>21:22:31</td>\n",
       "      <td>.000Z</td>\n",
       "      <td>NaN</td>\n",
       "      <td>NaN</td>\n",
       "      <td>NaN</td>\n",
       "      <td>NaN</td>\n",
       "      <td>NaN</td>\n",
       "      <td>NaN</td>\n",
       "      <td>44.89804</td>\n",
       "      <td>-93.211490</td>\n",
       "      <td>-1.037626e+07</td>\n",
       "      <td>5.605484e+06</td>\n",
       "      <td>3.0</td>\n",
       "      <td>Morris Park</td>\n",
       "      <td>2018-06-18T08:20:41.000Z</td>\n",
       "    </tr>\n",
       "  </tbody>\n",
       "</table>\n",
       "</div>"
      ],
      "text/plain": [
       "        OBJECTID masterIncidentNumber responseDate Non-Usable responseTime  \\\n",
       "110989    118990            19-109767   2019-04-19          T     12:47:45   \n",
       "51556      58557            17-469182   2017-12-11          T     16:19:53   \n",
       "74781      83782            18-200579   2018-06-17          T     21:22:31   \n",
       "\n",
       "       responseCode citationIssued personSearch vehicleSearch  preRace   race  \\\n",
       "110989        .000Z             NO          YES           YES    Black  Black   \n",
       "51556         .000Z             NO           NO            NO  Unknown  Black   \n",
       "74781         .000Z            NaN          NaN           NaN      NaN    NaN   \n",
       "\n",
       "        gender       lat       long             x             y  \\\n",
       "110989    Male  44.98444 -93.286492 -1.038460e+07  5.619072e+06   \n",
       "51556   Female  45.01315 -93.296850 -1.038576e+07  5.623593e+06   \n",
       "74781      NaN  44.89804 -93.211490 -1.037626e+07  5.605484e+06   \n",
       "\n",
       "        policePrecinct neighborhood            lastUpdateDate  \n",
       "110989             1.0   North Loop  2019-04-20T08:20:42.000Z  \n",
       "51556              4.0       Jordan  2017-12-12T08:22:13.000Z  \n",
       "74781              3.0  Morris Park  2018-06-18T08:20:41.000Z  "
      ]
     },
     "execution_count": 87,
     "metadata": {},
     "output_type": "execute_result"
    }
   ],
   "source": [
    "#let's get a sample of the data\n",
    "df.sample(3)"
   ]
  },
  {
   "cell_type": "markdown",
   "metadata": {},
   "source": [
    "As we can see from above, we have dates, time, search, race, gender, geolocation, pricinct, and neighbourhood data values we can work with for this analysis. the data and preRace, Race, gender and neighbourhood would be investigated in detail next using a pychart. "
   ]
  },
  {
   "cell_type": "code",
   "execution_count": 129,
   "metadata": {
    "scrolled": true
   },
   "outputs": [
    {
     "data": {
      "image/png": "[encoded data removed]",
      "text/plain": [
       "<Figure size 720x360 with 1 Axes>"
      ]
     },
     "metadata": {},
     "output_type": "display_data"
    }
   ],
   "source": [
    "#generating a pie chart on racial demographics \n",
    "Race = []\n",
    "Race.append(df['race'].value_counts())\n",
    "plt.figure(figsize=(10, 5))\n",
    "plt.pie(Race[0])\n",
    "plt.legend(Race[0].index, loc='upper right')\n",
    "plt.title('\\nFigure 1. Minneapolice Police Stop Data Analysis - Per Pricinct and Race')\n",
    "plt.axis('equal');"
   ]
  },
  {
   "cell_type": "markdown",
   "metadata": {},
   "source": [
    "According to the 2018 cences report[2], the minnesota population demographics are White 84%, Black 6.4% ( including East African)..etc. According to this chart, there is more chance the police stops involved a Black person than any other race. \n",
    "\n",
    "This data also has 'Unknown' and 'Other' races that we can't quite put in to any of the known Asian, Black, East African, Latino, Native American, and White races. Because the reports from these catagories is large, we can't just ignore the implications of these percentage. "
   ]
  },
  {
   "cell_type": "code",
   "execution_count": 173,
   "metadata": {
    "scrolled": true
   },
   "outputs": [
    {
     "data": {
      "image/png": "[encoded data removed]",
      "text/plain": [
       "<Figure size 1080x360 with 1 Axes>"
      ]
     },
     "metadata": {
      "needs_background": "light"
     },
     "output_type": "display_data"
    }
   ],
   "source": [
    "#Now lets look at these race desparity per pricinct and neighbourhood\n",
    "plt.figure(figsize=(15,5))\n",
    "df.groupby('policePrecinct')['race'].value_counts().plot(kind='bar');\n",
    "plt.title('\\nFigure 2. Police Stop Data Analysis - Reported by Precinct & Race \\n')\n",
    "plt.ylabel('Number of stops per pricinct / race')\n",
    "plt.xlabel('\\n Precinct 1 to 5 police stop racial report');"
   ]
  },
  {
   "cell_type": "markdown",
   "metadata": {},
   "source": [
    "These data revels more insite that we couldn't tell from the pie chart. That is for District 2 and 5, the white race is more prone to be stoped than other racess. The next big race with small percentage change is blacks, followed by East Africans. If we look at districst 1, 3, and 4, Black people are more frequently stoped that others followed by unknown and whites. The next part is to get the actual probability rate for each race in different precincts. We can also see that, the Asian Race being stoped by plice is much much lower than any other race in all precincts. "
   ]
  },
  {
   "cell_type": "code",
   "execution_count": null,
   "metadata": {},
   "outputs": [],
   "source": [
    "AsianRace = "
   ]
  },
  {
   "cell_type": "markdown",
   "metadata": {},
   "source": [
    "### Algorithms and Techniques"
   ]
  },
  {
   "cell_type": "code",
   "execution_count": null,
   "metadata": {},
   "outputs": [],
   "source": []
  },
  {
   "cell_type": "markdown",
   "metadata": {},
   "source": [
    "## III. Methodology"
   ]
  },
  {
   "cell_type": "markdown",
   "metadata": {},
   "source": [
    "### Getting the data & Data Processing"
   ]
  },
  {
   "cell_type": "markdown",
   "metadata": {},
   "source": [
    "The data is collected from the www.minneapolismn.gov/opendata readily available for public at anytime. Although there are multiple formats available to download, excel format is used for this report. \n",
    "\n",
    "The responseDate column had data, time, and code at first. Since there is only one time data in the response date, the time values have been dropped from analysis. The codes 'T' & '000Z' have been placed at the beggining & end of the responseDate time values also have been dropped. \n",
    "\n",
    "For manupulation data numpy padas, and matplotlib libraries have been used to calculate, analyze and plots for visualizations. The data is fed using pandas Dataframe module and used throughtout the code.  "
   ]
  },
  {
   "cell_type": "markdown",
   "metadata": {},
   "source": [
    "## IV. Results and Conclusions"
   ]
  },
  {
   "cell_type": "code",
   "execution_count": null,
   "metadata": {},
   "outputs": [],
   "source": []
  },
  {
   "cell_type": "markdown",
   "metadata": {},
   "source": [
    "## V. Future Improvements"
   ]
  },
  {
   "cell_type": "code",
   "execution_count": null,
   "metadata": {},
   "outputs": [],
   "source": []
  },
  {
   "cell_type": "markdown",
   "metadata": {},
   "source": [
    "## References"
   ]
  },
  {
   "cell_type": "markdown",
   "metadata": {},
   "source": [
    "1. Opendata.mninneapolismn.gov. (2019). Police Stop Data. [online] Available at: http://opendata.minneapolismn.gov/datasets/police-stop-data [Accessed 28 Apr. 2019]."
   ]
  },
  {
   "cell_type": "markdown",
   "metadata": {},
   "source": [
    "2. Census Bureau QuickFacts. (2019). U.S. Census Bureau QuickFacts: Minnesota. [online] Available at: https://www.census.gov/quickfacts/fact/table/mn/PST045218 [Accessed 3 May 2019]."
   ]
  },
  {
   "cell_type": "code",
   "execution_count": null,
   "metadata": {},
   "outputs": [],
   "source": []
  }
 ],
 "metadata": {
  "kernelspec": {
   "display_name": "Python 3",
   "language": "python",
   "name": "python3"
  },
  "language_info": {
   "codemirror_mode": {
    "name": "ipython",
    "version": 3
   },
   "file_extension": ".py",
   "mimetype": "text/x-python",
   "name": "python",
   "nbconvert_exporter": "python",
   "pygments_lexer": "ipython3",
   "version": "3.6.7"
  }
 },
 "nbformat": 4,
 "nbformat_minor": 2
}
