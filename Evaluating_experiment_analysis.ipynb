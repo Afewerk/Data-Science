{
 "cells": [
  {
   "cell_type": "markdown",
   "metadata": {},
   "source": [
    "# Challenge: Evaluate an experiment analysis"
   ]
  },
  {
   "cell_type": "markdown",
   "metadata": {},
   "source": [
    "Guidelines: \n",
    "Now it's time to flex your critical evaluation skills. Read the following descriptions of an experiment and its analysis, identify the flaws in each, and describe what you would do to correct them."
   ]
  },
  {
   "cell_type": "markdown",
   "metadata": {},
   "source": [
    "1. The Sith Lords are concerned that their recruiting slogan, \"Give In to Your Anger,\" isn't very effective. Darth Vader develops an alternative slogan, \"Together We Can Rule the Galaxy.\" They compare the slogans on two groups of 50 captured droids each. In one group, Emperor Palpatine delivers the \"Anger\" slogan. In the other, Darth Vader presents the \"Together\" slogan. 20 droids convert to the Dark Side after hearing Palpatine's slogan, while only 5 droids convert after hearing Vader's. The Sith's data scientist concludes that \"Anger\" is a more effective slogan and should continue to be used."
   ]
  },
  {
   "cell_type": "markdown",
   "metadata": {},
   "source": [
    "Ans. I have not watched this TV show and will respond as an ignorant to the subject. The issue starts where Emperor Palpatine and Darth Vador delivering the slogans. It's true that, same amount of sample were chosed for the test, but before concluding as \"Anger\" is more effective slogan, both actors should have delivered the slogans in different times and collect results. As of now, if the Darth Vader character is convincing than Sith Lords. The flaw here is not testing the hyphothesis with both characters before conclusion. I would have run both slogans with both characters before coming up with 'Anger' is a more effective slogan."
   ]
  },
  {
   "cell_type": "markdown",
   "metadata": {},
   "source": [
    "2. In the past, the Jedi have had difficulty with public relations. They send two envoys, Jar Jar Binks and Mace Windu, to four friendly and four unfriendly planets respectively, with the goal of promoting favorable feelings toward the Jedi. Upon their return, the envoys learn that Jar Jar was much more effective than Windu: Over 75% of the people surveyed said their attitudes had become more favorable after speaking with Jar Jar, while only 65% said their attitudes had become more favorable after speaking with Windu. This makes Windu angry, because he is sure that he had a better success rate than Jar Jar on every planet. The Jedi choose Jar Jar to be their representative in the future."
   ]
  },
  {
   "cell_type": "markdown",
   "metadata": {},
   "source": [
    "Ans. The flaws on this descition is with the two characters going to \"friendly and unfriendly' locations. The setting favors Jar Jar even before he deployed to the planets. It would be unfair to compare Mace Windu's results to Jar Jar for this reason. Not only that, we also don't know what events happened at each planets to get this results. It's possible that Mace Windu encountered more unfrienly characters and dealt with great uptitude to get 75% rating. I would have sent the two characters to have 2 friendly and 2 unfriendly planets to make the rating fair. "
   ]
  },
  {
   "cell_type": "markdown",
   "metadata": {},
   "source": [
    "3. A company with work sites in five different countries has sent you data on employee satisfaction rates for workers in Human Resources and workers in Information Technology. Most HR workers are concentrated in three of the countries, while IT workers are equally distributed across worksites. The company requests a report on satisfaction for each job type. You calculate average job satisfaction for HR and for IT and present the report."
   ]
  },
  {
   "cell_type": "markdown",
   "metadata": {},
   "source": [
    "Let's look at two datasets for this report. The first A group are from the HR group and B groups are from the IT workers. The HR workers average is going to be flawed because the average for each worksite vs the average for the entire company would not be somewhat good dataset. The average satisfaction rating for HR workers would be somewhat 3 of the most populated groups are in the same reageon. The data would be collected from the last year's HR and last years IT groups. Because the IT workers are fairly balanced accross the worksites, the average would be close to the number of workers per site. However, the data from the HR group shows similar to 8,8,9,5,5. That scales the average hihger and it would be biased to compare the two. Therefore, the flaw is in the selection standard. "
   ]
  },
  {
   "cell_type": "markdown",
   "metadata": {},
   "source": [
    "4. When people install the Happy Days Fitness Tracker app, they are asked to \"opt in\" to a data collection scheme where their level of physical activity data is automatically sent to the company for product research purposes. During your interview with the company, they tell you that the app is very effective because after installing the app, the data show that people's activity levels rise steadily."
   ]
  },
  {
   "cell_type": "markdown",
   "metadata": {},
   "source": [
    "The company is basing their concluson on a data collected from users. The data might have been collected from people who signed up to excercice regularyly or already dong it. Let's say the company collected historical data for that past year from the poeple who signed up and excercised for group A. Then they collected another data from the grouped who used the device regularly and excercised regularly. If the company selected the data from B and based their conclusion, then the statement would then be true. The data will run in to selective bias because the company selectively sampled to get favorable outcome. "
   ]
  },
  {
   "cell_type": "markdown",
   "metadata": {},
   "source": [
    "5. To prevent cheating, a teacher writes three versions of a test. She stacks the three versions together, first all copies of Version A, then all copies of Version B, then all copies of Version C. As students arrive for the exam, each student takes a test. When grading the test, the teacher finds that students who took Version B scored higher than students who took either Version A or Version C. She concludes from this that Version B is easier, and discards it."
   ]
  },
  {
   "cell_type": "markdown",
   "metadata": {},
   "source": [
    "The teacher is again biased assuming version C is easy. It could have been that student's from that version may have been those students in the class who excel the most. It may also be that that test may have most problems from a recent chapter or assignment. For her to base on just the outcome of the test is premature and she is biased on context. I would have corrected this decition by looking at each version test and comparing them."
   ]
  },
  {
   "cell_type": "markdown",
   "metadata": {},
   "source": [
    "# The research Proposal"
   ]
  },
  {
   "cell_type": "markdown",
   "metadata": {},
   "source": [
    "For this assignment, i'm going to look in to question 5 of Evaluating Experiment analysis assignment. \n",
    "\n",
    "Question. \n",
    "To prevent cheating, a teacher writes three versions of a test. She stacks the three versions together, first all copies of Version A, then all copies of Version B, then all copies of Version C. As students arrive for the exam, each student takes a test. When grading the test, the teacher finds that students who took Version B scored higher than students who took either Version A or Version C. She concludes from this that Version B is easier, and discards it."
   ]
  },
  {
   "cell_type": "markdown",
   "metadata": {},
   "source": [
    "The problem: Students might be cheating on test and want to stop or penalize for doing that.\n",
    "    \n",
    "The Potential Solutions : Giv students multiple versions of a tests that was carefully populated from each topic equally and the number of questions have to be equal. Also, when students are found to be cheating, take extreme measures to penalize only those who cheated. \n",
    "\n",
    "The method of testing the solution: Versions A, B or C should have enough number of questions from each topics equally. Second, students should be monitored carefully during test taking. More careful consideration should be made to students with prior history. Additionally, the test should be shuffled when printing or before handing it out to students. \n"
   ]
  }
 ],
 "metadata": {
  "kernelspec": {
   "display_name": "Python 3",
   "language": "python",
   "name": "python3"
  },
  "language_info": {
   "codemirror_mode": {
    "name": "ipython",
    "version": 3
   },
   "file_extension": ".py",
   "mimetype": "text/x-python",
   "name": "python",
   "nbconvert_exporter": "python",
   "pygments_lexer": "ipython3",
   "version": "3.6.7"
  }
 },
 "nbformat": 4,
 "nbformat_minor": 2
}
