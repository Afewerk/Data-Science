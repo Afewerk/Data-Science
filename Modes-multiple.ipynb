{
 "cells": [
  {
   "cell_type": "code",
   "execution_count": 1,
   "metadata": {},
   "outputs": [
    {
     "name": "stdout",
     "output_type": "stream",
     "text": [
      "Modes :  ['t'] Counts :  [1 1 1 2]\n"
     ]
    }
   ],
   "source": [
    "'''\n",
    "This code demonstrates accussing lists values and returning modes. we use the numpy and pandas libraries to get by the\n",
    "python multiple modes error.\n",
    "'''\n",
    "import numpy as np\n",
    "import statistics as st\n",
    "\n",
    "def split(word):\n",
    "    return list(word)\n",
    "\n",
    "word = ['tomat']\n",
    "for wor in word:\n",
    "    text = list(wor)\n",
    "\n",
    "# Generate a list of unique elements along with how often they occur.\n",
    "(values, counts) = np.unique(text, return_counts=True)\n",
    "ind = values[counts> 1]\n",
    "\n",
    "# The most frequent element and number of times it appears\n",
    "print(\"Modes : \",ind, 'Counts : ', counts)\n"
   ]
  },
  {
   "cell_type": "code",
   "execution_count": null,
   "metadata": {},
   "outputs": [],
   "source": []
  }
 ],
 "metadata": {
  "kernelspec": {
   "display_name": "Python 3",
   "language": "python",
   "name": "python3"
  },
  "language_info": {
   "codemirror_mode": {
    "name": "ipython",
    "version": 3
   },
   "file_extension": ".py",
   "mimetype": "text/x-python",
   "name": "python",
   "nbconvert_exporter": "python",
   "pygments_lexer": "ipython3",
   "version": "3.6.7"
  }
 },
 "nbformat": 4,
 "nbformat_minor": 2
}
