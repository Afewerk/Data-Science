{
 "cells": [
  {
   "cell_type": "markdown",
   "metadata": {},
   "source": [
    "Assignments\n",
    "For each of the following questions, outline how you could use an A/B test to find an answer. Be sure to identify all five key components of an A/B test we outlined above.\n",
    "\n",
    "1. Does a new supplement help people sleep better?\n",
    "2. Will new uniforms help a gym's business?\n",
    "3. Will a new homepage improve my online exotic pet rental business?\n",
    "4. If I put 'please read' in the email subject will more people read my emails?"
   ]
  },
  {
   "cell_type": "markdown",
   "metadata": {},
   "source": [
    "Guidelins. Five of the A/B testing metrics \n",
    "The components of an A/B test are:\n",
    "\n",
    "__Two versions__ of something whose effects will be compared. Typically one version is a \"control version,\" often already in use (or \"no intervention\"), and one is a \"test version,\" which has some changes from the control. That change is often called the treatment. If starting from scratch, however, you may have two different test versions to compare to each other.\n",
    "\n",
    "__A sample__, divided into two groups. Each sample should be selected so that it is similar to the population you want to understand. The groups should be similar to one another so that any differences between them can be attributed to seeing version A or version B and not something else. You also want the split of between A and B to be as random as possible.\n",
    "\n",
    "__A hypothesis.__ Your hypothesis is what you expect to happen. For example, \"I expect the HTML email will achieve a higher open and conversion rate than the plain text email.\"\n",
    "\n",
    "__Outcome(s)__ of interest. What you expect will change as a result of using version A or version B, and how you will measure that change. This means you have to decide on a _key metric_, which should capture the effect of your change and reflect the motivations for the test in the first place.\n",
    "\n",
    "__Other measured variables.__ This includes information about the two groups that can be used to ensure they are similar, as well as secondary outcomes that are less important than the primary outcomes of interest but which might also change in response to using version A or version B."
   ]
  },
  {
   "cell_type": "markdown",
   "metadata": {},
   "source": [
    "## Question #1  Does a new supplement help people sleep better?\n",
    "To answer the first question, we're goint to argue that the will help sleep better\n",
    "\n",
    "Virsion 1. The new XX supplement will help sleep deprevated, people with sleep problem and sleeping easily in a noisy area.\n",
    "Version 2. The new XX supplement will help pacients and older people sleep better\n",
    "Sample 1. Sleep deprevated person, people with sleep problem and people in a noisy location usually have hard time sleepingwith\n",
    "        thier condition or environment. For them, any help getting them fall asleep is a big help.\n",
    "Sample 2. Pcianets and Old people require more sleep and that might not happen without the help of a supplement. Thesupplement,\n",
    "        will get them to sleep faster at any time. \n",
    "    \n",
    "Hypothesis: For both samples, the idea is not to make a miracle with the supplement. The spplement will help them get to sleep\n",
    "       faster or get to sleep without the normal sleeping hours. Therefore, the outcome is both of this samples will experience improvements.\n",
    "Measurement: Both samples are in need of help sleeping faster, better or without the normal sleeping ohours. "
   ]
  },
  {
   "cell_type": "markdown",
   "metadata": {},
   "source": [
    "## Question #2  Will new uniforms help a gym's business?"
   ]
  },
  {
   "cell_type": "markdown",
   "metadata": {},
   "source": [
    "For this test, i'm going to argue the this will not help the gym.\n",
    "The first virsion of the argument is because most people don't like wearing uniform, the busyness will not continue forcing the uniform protocol.The second version is that, the business will have to spend lots of money to buy uniform and put it in stock. Depending on the campain, the uniform might sell or not. In both cases, the gym has a lot at risk with something that has been tested unfovarable by people. \n",
    "\n",
    "The hyphothesis is that, uniform takes up lots of work cleaning everyday, takes up money from other spending, and people don't like wearing uniforms for gyg, school or similar. Furthermore, the measures here are lots of labor demand, wearing the same thing over and over, and takes up lots of money upfront. "
   ]
  },
  {
   "cell_type": "markdown",
   "metadata": {},
   "source": [
    "## Question #3 Will a new homepage improve my online exotic pet rental business?"
   ]
  },
  {
   "cell_type": "markdown",
   "metadata": {},
   "source": [
    "In order to answer this queston. We have to look at exotic pet business in general and the cunsumers. Version one of the argument would argue, only a few people shop for exotic pet and they will buy eitherway. Version two would argue, only a few people with pre-existing pet ownership would buy exotic pets eitherway. Both samples are from a rare exotic pet lovign group. They would buy the pet either there is a new homepage or not. To add to that, the second group already own exotic pets and they can purchase another for a companion purposes, want to swap or similar reasons. \n",
    "\n",
    "The hypothesis is that because only a rare group of people own exotic pets, a new homepage would not change their mind. They are already from a rare loyal group and would purchase just because of helping the business or minor reasons. These and other measurements will convince an exotic pet store owner not to spending large amount of money on webside homepage development unless its required. "
   ]
  },
  {
   "cell_type": "markdown",
   "metadata": {},
   "source": [
    "## Question #4  If I put 'please read' in the email subject will more people read my emails?"
   ]
  },
  {
   "cell_type": "markdown",
   "metadata": {},
   "source": [
    "Anytime a person includes the majic phrase 'please' more participants will be willing to engage in the request. In this case, more people will take time to read or scan the document because of that text. The first group who will be willing to read are becasue the message asks politly and some might think its directed to them or important. The group who reads because of a polit title, would read it and may go through the entire document because they are willing to spend some time. The other group however will start to read and as soon as they think its not for them or important, they will close it. Therfore my hypothesis, people will read the message stands true and not necessarily finish the document. The measures are people like to be polite and if somethign is important, i should read it before loosing the benefit. "
   ]
  },
  {
   "cell_type": "code",
   "execution_count": null,
   "metadata": {},
   "outputs": [],
   "source": []
  }
 ],
 "metadata": {
  "kernelspec": {
   "display_name": "Python 3",
   "language": "python",
   "name": "python3"
  },
  "language_info": {
   "codemirror_mode": {
    "name": "ipython",
    "version": 3
   },
   "file_extension": ".py",
   "mimetype": "text/x-python",
   "name": "python",
   "nbconvert_exporter": "python",
   "pygments_lexer": "ipython3",
   "version": "3.6.7"
  }
 },
 "nbformat": 4,
 "nbformat_minor": 2
}
