{
 "cells": [
  {
   "cell_type": "code",
   "execution_count": 26,
   "metadata": {},
   "outputs": [],
   "source": [
    "data = [[\"Grae Drake\", 98110], [\"Bethany Kok\"], [\"Alex Nussbacher\", 94101], [\"Darrell Silver\", 11201]]\n",
    "def user_contacts(data):\n",
    "    # Your code here.\n",
    "    names_zipcode = {}\n",
    "    for names in data:\n",
    "        if len(names) >= 2:\n",
    "            names_zipcode[names[0]] = names[1]\n",
    "        else:\n",
    "            names_zipcode[names[0]] = None\n",
    "    return names_zipcode, names_zipcode.keys(), names_zipcode.values(), names_zipcode.items()"
   ]
  },
  {
   "cell_type": "code",
   "execution_count": 27,
   "metadata": {},
   "outputs": [
    {
     "data": {
      "text/plain": [
       "({'Grae Drake': 98110,\n",
       "  'Bethany Kok': None,\n",
       "  'Alex Nussbacher': 94101,\n",
       "  'Darrell Silver': 11201},\n",
       " dict_keys(['Grae Drake', 'Bethany Kok', 'Alex Nussbacher', 'Darrell Silver']),\n",
       " dict_values([98110, None, 94101, 11201]),\n",
       " dict_items([('Grae Drake', 98110), ('Bethany Kok', None), ('Alex Nussbacher', 94101), ('Darrell Silver', 11201)]))"
      ]
     },
     "execution_count": 27,
     "metadata": {},
     "output_type": "execute_result"
    }
   ],
   "source": [
    "user_contacts(data)"
   ]
  },
  {
   "cell_type": "code",
   "execution_count": null,
   "metadata": {},
   "outputs": [],
   "source": []
  },
  {
   "cell_type": "code",
   "execution_count": null,
   "metadata": {},
   "outputs": [],
   "source": []
  },
  {
   "cell_type": "code",
   "execution_count": null,
   "metadata": {},
   "outputs": [],
   "source": []
  }
 ],
 "metadata": {
  "kernelspec": {
   "display_name": "Python 3",
   "language": "python",
   "name": "python3"
  },
  "language_info": {
   "codemirror_mode": {
    "name": "ipython",
    "version": 3
   },
   "file_extension": ".py",
   "mimetype": "text/x-python",
   "name": "python",
   "nbconvert_exporter": "python",
   "pygments_lexer": "ipython3",
   "version": "3.6.7"
  }
 },
 "nbformat": 4,
 "nbformat_minor": 2
}
