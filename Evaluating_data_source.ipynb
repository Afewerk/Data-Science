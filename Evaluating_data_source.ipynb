{
 "cells": [
  {
   "cell_type": "markdown",
   "metadata": {},
   "source": [
    "# Assignment - Evaluating data source"
   ]
  },
  {
   "cell_type": "code",
   "execution_count": 19,
   "metadata": {},
   "outputs": [],
   "source": [
    "import pandas as pd\n",
    "import numpy as np\n",
    "import matplotlib.pyplot as plt\n",
    "import statistics as sts\n",
    "%matplotlib inline"
   ]
  },
  {
   "cell_type": "raw",
   "metadata": {},
   "source": [
    "Drill\n",
    "In each of the scenarios, find possible shortcomings of the theoretical or actual data sources to answer the given question. What could be done to either adjust the analysis or reframe the question so that you can answer it accurately?"
   ]
  },
  {
   "cell_type": "markdown",
   "metadata": {},
   "source": [
    "Q1. Data Source: Amsterdam availability data scraped from AirBnB on December 24th. Question: What are the popular neighborhoods in Amsterdam?"
   ]
  },
  {
   "cell_type": "markdown",
   "metadata": {},
   "source": [
    "Q2. Data Source: Mental health services use on September 12, 2001 in San Francisco, CA and New York City, NY. Question: How do patterns of mental health service use vary between cities?"
   ]
  },
  {
   "cell_type": "markdown",
   "metadata": {},
   "source": [
    "Q3. Data Source: Armenian Pub Survey. Question: What are the most common reasons Armenians visit local pubs?"
   ]
  },
  {
   "cell_type": "code",
   "execution_count": 20,
   "metadata": {},
   "outputs": [
    {
     "data": {
      "text/html": [
       "<div>\n",
       "<style scoped>\n",
       "    .dataframe tbody tr th:only-of-type {\n",
       "        vertical-align: middle;\n",
       "    }\n",
       "\n",
       "    .dataframe tbody tr th {\n",
       "        vertical-align: top;\n",
       "    }\n",
       "\n",
       "    .dataframe thead th {\n",
       "        text-align: right;\n",
       "    }\n",
       "</style>\n",
       "<table border=\"1\" class=\"dataframe\">\n",
       "  <thead>\n",
       "    <tr style=\"text-align: right;\">\n",
       "      <th></th>\n",
       "      <th>Timestamp</th>\n",
       "      <th>Age</th>\n",
       "      <th>Gender</th>\n",
       "      <th>Income</th>\n",
       "      <th>Occupation</th>\n",
       "      <th>Fave_Pub</th>\n",
       "      <th>WTS</th>\n",
       "      <th>Freq</th>\n",
       "      <th>Prim_lmp</th>\n",
       "      <th>Sec_lmp</th>\n",
       "      <th>Stratum</th>\n",
       "      <th>Lifestyle</th>\n",
       "      <th>Occation</th>\n",
       "    </tr>\n",
       "  </thead>\n",
       "  <tbody>\n",
       "    <tr>\n",
       "      <th>134</th>\n",
       "      <td>2017/03/01 11:53:23 PM GMT+4</td>\n",
       "      <td>20</td>\n",
       "      <td>Female</td>\n",
       "      <td>60000.0</td>\n",
       "      <td>Student</td>\n",
       "      <td>Calumet</td>\n",
       "      <td>2000.0</td>\n",
       "      <td>rarely (once two week/or a month)</td>\n",
       "      <td>Environment</td>\n",
       "      <td>Menu</td>\n",
       "      <td>Urban</td>\n",
       "      <td>Busy(student life, work)</td>\n",
       "      <td>Hang outs with friends</td>\n",
       "    </tr>\n",
       "    <tr>\n",
       "      <th>45</th>\n",
       "      <td>2017/02/25 11:20:22 PM GMT+4</td>\n",
       "      <td>41</td>\n",
       "      <td>Female</td>\n",
       "      <td>100000.0</td>\n",
       "      <td>Working</td>\n",
       "      <td>Calumet</td>\n",
       "      <td>10000.0</td>\n",
       "      <td>rarely (once two week/or a month)</td>\n",
       "      <td>Music</td>\n",
       "      <td>Environment</td>\n",
       "      <td>Capital</td>\n",
       "      <td>Busy(student life, work)</td>\n",
       "      <td>Hang outs with friends</td>\n",
       "    </tr>\n",
       "    <tr>\n",
       "      <th>72</th>\n",
       "      <td>2017/02/26 12:52:33 AM GMT+4</td>\n",
       "      <td>25</td>\n",
       "      <td>Male</td>\n",
       "      <td>400000.0</td>\n",
       "      <td>Working</td>\n",
       "      <td>Red bull</td>\n",
       "      <td>5000.0</td>\n",
       "      <td>Several times in a month</td>\n",
       "      <td>Environment</td>\n",
       "      <td>Pricing</td>\n",
       "      <td>Capital</td>\n",
       "      <td>Busy(student life, work)</td>\n",
       "      <td>Hang outs with friends</td>\n",
       "    </tr>\n",
       "    <tr>\n",
       "      <th>82</th>\n",
       "      <td>2017/02/26 2:15:26 AM GMT+4</td>\n",
       "      <td>25</td>\n",
       "      <td>Male</td>\n",
       "      <td>240000.0</td>\n",
       "      <td>Working</td>\n",
       "      <td>Barcode</td>\n",
       "      <td>2000.0</td>\n",
       "      <td>Several times in a month</td>\n",
       "      <td>Environment</td>\n",
       "      <td>Music</td>\n",
       "      <td>Capital</td>\n",
       "      <td>Busy(student life, work)</td>\n",
       "      <td>Hang outs with friends</td>\n",
       "    </tr>\n",
       "    <tr>\n",
       "      <th>173</th>\n",
       "      <td>2017/03/03 8:59:05 PM GMT+4</td>\n",
       "      <td>20</td>\n",
       "      <td>Female</td>\n",
       "      <td>80000.0</td>\n",
       "      <td>Student + working</td>\n",
       "      <td>Tom Collins</td>\n",
       "      <td>5000.0</td>\n",
       "      <td>rarely (once two week/or a month)</td>\n",
       "      <td>Environment</td>\n",
       "      <td>Music</td>\n",
       "      <td>Capital</td>\n",
       "      <td>Busy(student life, work)</td>\n",
       "      <td>Hang outs with friends</td>\n",
       "    </tr>\n",
       "  </tbody>\n",
       "</table>\n",
       "</div>"
      ],
      "text/plain": [
       "                        Timestamp  Age  Gender    Income         Occupation  \\\n",
       "134  2017/03/01 11:53:23 PM GMT+4   20  Female   60000.0            Student   \n",
       "45   2017/02/25 11:20:22 PM GMT+4   41  Female  100000.0            Working   \n",
       "72   2017/02/26 12:52:33 AM GMT+4   25    Male  400000.0            Working   \n",
       "82    2017/02/26 2:15:26 AM GMT+4   25    Male  240000.0            Working   \n",
       "173   2017/03/03 8:59:05 PM GMT+4   20  Female   80000.0  Student + working   \n",
       "\n",
       "        Fave_Pub      WTS                               Freq     Prim_lmp  \\\n",
       "134      Calumet   2000.0  rarely (once two week/or a month)  Environment   \n",
       "45       Calumet  10000.0  rarely (once two week/or a month)        Music   \n",
       "72      Red bull   5000.0           Several times in a month  Environment   \n",
       "82       Barcode   2000.0           Several times in a month  Environment   \n",
       "173  Tom Collins   5000.0  rarely (once two week/or a month)  Environment   \n",
       "\n",
       "         Sec_lmp  Stratum                 Lifestyle                Occation  \n",
       "134         Menu    Urban  Busy(student life, work)  Hang outs with friends  \n",
       "45   Environment  Capital  Busy(student life, work)  Hang outs with friends  \n",
       "72       Pricing  Capital  Busy(student life, work)  Hang outs with friends  \n",
       "82         Music  Capital  Busy(student life, work)  Hang outs with friends  \n",
       "173        Music  Capital  Busy(student life, work)  Hang outs with friends  "
      ]
     },
     "execution_count": 20,
     "metadata": {},
     "output_type": "execute_result"
    }
   ],
   "source": [
    "#Let's start by reading the dataset from the Kagger\n",
    "df = pd.read_excel('data/armenian_pubs.xlsx')\n",
    "df.sample(5)"
   ]
  },
  {
   "cell_type": "code",
   "execution_count": 27,
   "metadata": {},
   "outputs": [
    {
     "data": {
      "text/html": [
       "<div>\n",
       "<style scoped>\n",
       "    .dataframe tbody tr th:only-of-type {\n",
       "        vertical-align: middle;\n",
       "    }\n",
       "\n",
       "    .dataframe tbody tr th {\n",
       "        vertical-align: top;\n",
       "    }\n",
       "\n",
       "    .dataframe thead tr th {\n",
       "        text-align: left;\n",
       "    }\n",
       "\n",
       "    .dataframe thead tr:last-of-type th {\n",
       "        text-align: right;\n",
       "    }\n",
       "</style>\n",
       "<table border=\"1\" class=\"dataframe\">\n",
       "  <thead>\n",
       "    <tr>\n",
       "      <th></th>\n",
       "      <th colspan=\"8\" halign=\"left\">Age</th>\n",
       "      <th colspan=\"5\" halign=\"left\">Income</th>\n",
       "      <th colspan=\"8\" halign=\"left\">WTS</th>\n",
       "    </tr>\n",
       "    <tr>\n",
       "      <th></th>\n",
       "      <th>count</th>\n",
       "      <th>mean</th>\n",
       "      <th>std</th>\n",
       "      <th>min</th>\n",
       "      <th>25%</th>\n",
       "      <th>50%</th>\n",
       "      <th>75%</th>\n",
       "      <th>max</th>\n",
       "      <th>count</th>\n",
       "      <th>mean</th>\n",
       "      <th>...</th>\n",
       "      <th>75%</th>\n",
       "      <th>max</th>\n",
       "      <th>count</th>\n",
       "      <th>mean</th>\n",
       "      <th>std</th>\n",
       "      <th>min</th>\n",
       "      <th>25%</th>\n",
       "      <th>50%</th>\n",
       "      <th>75%</th>\n",
       "      <th>max</th>\n",
       "    </tr>\n",
       "    <tr>\n",
       "      <th>Gender</th>\n",
       "      <th></th>\n",
       "      <th></th>\n",
       "      <th></th>\n",
       "      <th></th>\n",
       "      <th></th>\n",
       "      <th></th>\n",
       "      <th></th>\n",
       "      <th></th>\n",
       "      <th></th>\n",
       "      <th></th>\n",
       "      <th></th>\n",
       "      <th></th>\n",
       "      <th></th>\n",
       "      <th></th>\n",
       "      <th></th>\n",
       "      <th></th>\n",
       "      <th></th>\n",
       "      <th></th>\n",
       "      <th></th>\n",
       "      <th></th>\n",
       "      <th></th>\n",
       "    </tr>\n",
       "  </thead>\n",
       "  <tbody>\n",
       "    <tr>\n",
       "      <th>Female</th>\n",
       "      <td>102.0</td>\n",
       "      <td>19.411765</td>\n",
       "      <td>2.633948</td>\n",
       "      <td>16.0</td>\n",
       "      <td>18.0</td>\n",
       "      <td>19.0</td>\n",
       "      <td>20.0</td>\n",
       "      <td>41.0</td>\n",
       "      <td>102.0</td>\n",
       "      <td>63435.294118</td>\n",
       "      <td>...</td>\n",
       "      <td>80000.0</td>\n",
       "      <td>700000.0</td>\n",
       "      <td>100.0</td>\n",
       "      <td>4030.000000</td>\n",
       "      <td>3678.232448</td>\n",
       "      <td>0.0</td>\n",
       "      <td>2000.0</td>\n",
       "      <td>3000.0</td>\n",
       "      <td>5000.0</td>\n",
       "      <td>30000.0</td>\n",
       "    </tr>\n",
       "    <tr>\n",
       "      <th>Male</th>\n",
       "      <td>73.0</td>\n",
       "      <td>19.739726</td>\n",
       "      <td>2.958169</td>\n",
       "      <td>16.0</td>\n",
       "      <td>18.0</td>\n",
       "      <td>19.0</td>\n",
       "      <td>20.0</td>\n",
       "      <td>39.0</td>\n",
       "      <td>72.0</td>\n",
       "      <td>176444.444444</td>\n",
       "      <td>...</td>\n",
       "      <td>150000.0</td>\n",
       "      <td>4500000.0</td>\n",
       "      <td>72.0</td>\n",
       "      <td>5944.444444</td>\n",
       "      <td>4899.378773</td>\n",
       "      <td>0.0</td>\n",
       "      <td>3000.0</td>\n",
       "      <td>5000.0</td>\n",
       "      <td>7000.0</td>\n",
       "      <td>25000.0</td>\n",
       "    </tr>\n",
       "  </tbody>\n",
       "</table>\n",
       "<p>2 rows × 24 columns</p>\n",
       "</div>"
      ],
      "text/plain": [
       "          Age                                                    Income  \\\n",
       "        count       mean       std   min   25%   50%   75%   max  count   \n",
       "Gender                                                                    \n",
       "Female  102.0  19.411765  2.633948  16.0  18.0  19.0  20.0  41.0  102.0   \n",
       "Male     73.0  19.739726  2.958169  16.0  18.0  19.0  20.0  39.0   72.0   \n",
       "\n",
       "                        ...                            WTS               \\\n",
       "                 mean   ...          75%        max  count         mean   \n",
       "Gender                  ...                                               \n",
       "Female   63435.294118   ...      80000.0   700000.0  100.0  4030.000000   \n",
       "Male    176444.444444   ...     150000.0  4500000.0   72.0  5944.444444   \n",
       "\n",
       "                                                           \n",
       "                std  min     25%     50%     75%      max  \n",
       "Gender                                                     \n",
       "Female  3678.232448  0.0  2000.0  3000.0  5000.0  30000.0  \n",
       "Male    4899.378773  0.0  3000.0  5000.0  7000.0  25000.0  \n",
       "\n",
       "[2 rows x 24 columns]"
      ]
     },
     "execution_count": 27,
     "metadata": {},
     "output_type": "execute_result"
    }
   ],
   "source": [
    "df.groupby('Gender').describe()"
   ]
  },
  {
   "cell_type": "markdown",
   "metadata": {},
   "source": [
    "In order to find the most common reason armenians go to put, we have to collect the most frequent reasons ( Mod ) from Occations column and return a few of the common strings"
   ]
  },
  {
   "cell_type": "code",
   "execution_count": 46,
   "metadata": {},
   "outputs": [
    {
     "data": {
      "text/plain": [
       "Hang outs with friends      138\n",
       "Special events/parties       16\n",
       "Birthdays                    14\n",
       "Never                         2\n",
       "For listening good music      1\n",
       "chem aycelum                  1\n",
       "Nowere                        1\n",
       "Name: Occation, dtype: int64"
      ]
     },
     "execution_count": 46,
     "metadata": {},
     "output_type": "execute_result"
    }
   ],
   "source": [
    "Mod_reason = df['Occation'].value_counts()\n",
    "Mod_reason"
   ]
  },
  {
   "cell_type": "raw",
   "metadata": {},
   "source": [
    "Summary: As we can see from a total of 73 male and 102 female survey participants, more than 3/4 of the participants go to pub to \"Hange out with friends\". And the next frequent reason is \"Special Events/parties\"(16) and \"Birthdays\" at(14). The rest of the uantity is negligeable compared to the total dataset."
   ]
  },
  {
   "cell_type": "code",
   "execution_count": 61,
   "metadata": {},
   "outputs": [
    {
     "name": "stdout",
     "output_type": "stream",
     "text": [
      "The percentage of the most frequent reason is 25.0%.\n"
     ]
    }
   ],
   "source": [
    "Mod_reason_percent = ( Mod_reason.sum() - Mod_reason.max())/Mod_reason.max()\n",
    "print('The percentage of the most frequent reason is {}%.'.format(round(Mod_reason_percent*100),2))"
   ]
  },
  {
   "cell_type": "code",
   "execution_count": 69,
   "metadata": {},
   "outputs": [
    {
     "data": {
      "text/plain": [
       "Occation                  Gender\n",
       "Birthdays                 Female    12\n",
       "                          Male       2\n",
       "For listening good music  Female     1\n",
       "Hang outs with friends    Female    75\n",
       "                          Male      63\n",
       "Never                     Female     1\n",
       "                          Male       1\n",
       "Nowere                    Female     1\n",
       "Special events/parties    Female    12\n",
       "                          Male       4\n",
       "chem aycelum              Male       1\n",
       "Name: Gender, dtype: int64"
      ]
     },
     "execution_count": 69,
     "metadata": {},
     "output_type": "execute_result"
    }
   ],
   "source": [
    "#Finally, lets look at the geneder gup of the people with most common reason\n",
    "Mod_reason_gender = df.groupby('Occation')['Gender'].value_counts()\n",
    "Mod_reason_gender"
   ]
  },
  {
   "cell_type": "code",
   "execution_count": null,
   "metadata": {},
   "outputs": [],
   "source": []
  }
 ],
 "metadata": {
  "kernelspec": {
   "display_name": "Python 3",
   "language": "python",
   "name": "python3"
  },
  "language_info": {
   "codemirror_mode": {
    "name": "ipython",
    "version": 3
   },
   "file_extension": ".py",
   "mimetype": "text/x-python",
   "name": "python",
   "nbconvert_exporter": "python",
   "pygments_lexer": "ipython3",
   "version": "3.6.7"
  }
 },
 "nbformat": 4,
 "nbformat_minor": 2
}
